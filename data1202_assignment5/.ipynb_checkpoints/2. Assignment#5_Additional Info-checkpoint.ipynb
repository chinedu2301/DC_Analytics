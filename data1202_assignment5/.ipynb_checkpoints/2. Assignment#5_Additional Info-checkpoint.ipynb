{
 "cells": [
  {
   "cell_type": "markdown",
   "metadata": {},
   "source": [
    "### Info-1"
   ]
  },
  {
   "cell_type": "code",
   "execution_count": null,
   "metadata": {},
   "outputs": [],
   "source": [
    "import glob\n",
    "for py in glob.glob(\"*.csv\"):\n",
    "    print(py)"
   ]
  },
  {
   "cell_type": "markdown",
   "metadata": {},
   "source": [
    "### Info-2"
   ]
  },
  {
   "cell_type": "code",
   "execution_count": null,
   "metadata": {},
   "outputs": [],
   "source": [
    "import matplotlib.pyplot as plt\n",
    "fig,a =  plt.subplots(2,2)\n",
    "import numpy as np\n",
    "\n",
    "x = np.arange(1,5)\n",
    "a[0][0].plot(x,x*x)\n",
    "a[0][0].set_title('square')\n",
    "\n",
    "a[0][1].plot(x,np.sqrt(x))\n",
    "a[0][1].set_title('square root')\n",
    "\n",
    "a[1][0].plot(x,np.exp(x))\n",
    "a[1][0].set_title('exp')\n",
    "\n",
    "a[1][1].plot(x,np.log10(x))\n",
    "a[1][1].set_title('log')\n",
    "plt.show()"
   ]
  },
  {
   "cell_type": "markdown",
   "metadata": {},
   "source": [
    "### Info-3"
   ]
  },
  {
   "cell_type": "markdown",
   "metadata": {},
   "source": [
    "![alt text](A1.png \"Title\")"
   ]
  },
  {
   "cell_type": "code",
   "execution_count": null,
   "metadata": {},
   "outputs": [],
   "source": [
    "# sum values row-wise\n",
    "from numpy import asarray\n",
    "# define data as a list\n",
    "data = [[1,2,3], [4,5,6]]\n",
    "# convert to a numpy array\n",
    "data = asarray(data)\n",
    "# summarize the array content\n",
    "print(data)\n",
    "# sum data by row\n",
    "result = data.sum(axis=0)\n",
    "# summarize the result\n",
    "print(result)"
   ]
  },
  {
   "cell_type": "markdown",
   "metadata": {},
   "source": [
    "### Main Code for Assignment#5"
   ]
  },
  {
   "cell_type": "code",
   "execution_count": null,
   "metadata": {},
   "outputs": [],
   "source": [
    "import glob\n",
    "import numpy \n",
    "import matplotlib\n",
    "import matplotlib.pyplot \n",
    "\n",
    "dataset = sorted(glob.glob('data*.csv'))\n",
    "\n",
    "for datasets in dataset[:4]:\n",
    "    print(filenames)\n",
    "    visualize(filenames)\n",
    "    detect_problems(filenames)"
   ]
  },
  {
   "cell_type": "code",
   "execution_count": null,
   "metadata": {},
   "outputs": [],
   "source": [
    "import glob\n",
    "import numpy \n",
    "import matplotlib\n",
    "import matplotlib.pyplot \n",
    "\n",
    "dataset = sorted(glob.glob('data*.csv'))\n",
    "dataset "
   ]
  }
 ],
 "metadata": {
  "kernelspec": {
   "display_name": "Python 3",
   "language": "python",
   "name": "python3"
  },
  "language_info": {
   "codemirror_mode": {
    "name": "ipython",
    "version": 3
   },
   "file_extension": ".py",
   "mimetype": "text/x-python",
   "name": "python",
   "nbconvert_exporter": "python",
   "pygments_lexer": "ipython3",
   "version": "3.8.5"
  }
 },
 "nbformat": 4,
 "nbformat_minor": 4
}
