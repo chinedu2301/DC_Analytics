{
 "cells": [
  {
   "cell_type": "markdown",
   "metadata": {},
   "source": [
    "## Name: Chinedu Onyeka\n",
    "### DATA 1202: Data Analysis Tools - Assignment 2"
   ]
  },
  {
   "cell_type": "markdown",
   "metadata": {},
   "source": [
    "### Step 1. Import the necessary libraries"
   ]
  },
  {
   "cell_type": "code",
   "execution_count": 1,
   "metadata": {},
   "outputs": [],
   "source": [
    "# Import required libraries\n",
    "import pandas as pd\n",
    "import numpy as np\n",
    "import matplotlib.pyplot as plt\n",
    "import seaborn as sns\n",
    "%matplotlib inline"
   ]
  },
  {
   "cell_type": "markdown",
   "metadata": {},
   "source": [
    "### Step 2. Import the dataset and print the first five records. "
   ]
  },
  {
   "cell_type": "code",
   "execution_count": 2,
   "metadata": {},
   "outputs": [
    {
     "data": {
      "text/html": [
       "<div>\n",
       "<style scoped>\n",
       "    .dataframe tbody tr th:only-of-type {\n",
       "        vertical-align: middle;\n",
       "    }\n",
       "\n",
       "    .dataframe tbody tr th {\n",
       "        vertical-align: top;\n",
       "    }\n",
       "\n",
       "    .dataframe thead th {\n",
       "        text-align: right;\n",
       "    }\n",
       "</style>\n",
       "<table border=\"1\" class=\"dataframe\">\n",
       "  <thead>\n",
       "    <tr style=\"text-align: right;\">\n",
       "      <th></th>\n",
       "      <th>Year</th>\n",
       "      <th>Population</th>\n",
       "      <th>Murder</th>\n",
       "      <th>Forcible_Rape</th>\n",
       "      <th>Robbery</th>\n",
       "      <th>Aggravated_assault</th>\n",
       "      <th>Burglary</th>\n",
       "      <th>Larceny_Theft</th>\n",
       "      <th>Vehicle_Theft</th>\n",
       "    </tr>\n",
       "  </thead>\n",
       "  <tbody>\n",
       "    <tr>\n",
       "      <th>0</th>\n",
       "      <td>1960</td>\n",
       "      <td>179323175</td>\n",
       "      <td>9110</td>\n",
       "      <td>17190</td>\n",
       "      <td>107840</td>\n",
       "      <td>154320</td>\n",
       "      <td>912100</td>\n",
       "      <td>1855400</td>\n",
       "      <td>328200</td>\n",
       "    </tr>\n",
       "    <tr>\n",
       "      <th>1</th>\n",
       "      <td>1961</td>\n",
       "      <td>182992000</td>\n",
       "      <td>8740</td>\n",
       "      <td>17220</td>\n",
       "      <td>106670</td>\n",
       "      <td>156760</td>\n",
       "      <td>949600</td>\n",
       "      <td>1913000</td>\n",
       "      <td>336000</td>\n",
       "    </tr>\n",
       "    <tr>\n",
       "      <th>2</th>\n",
       "      <td>1962</td>\n",
       "      <td>185771000</td>\n",
       "      <td>8530</td>\n",
       "      <td>17550</td>\n",
       "      <td>110860</td>\n",
       "      <td>164570</td>\n",
       "      <td>994300</td>\n",
       "      <td>2089600</td>\n",
       "      <td>366800</td>\n",
       "    </tr>\n",
       "    <tr>\n",
       "      <th>3</th>\n",
       "      <td>1963</td>\n",
       "      <td>188483000</td>\n",
       "      <td>8640</td>\n",
       "      <td>17650</td>\n",
       "      <td>116470</td>\n",
       "      <td>174210</td>\n",
       "      <td>1086400</td>\n",
       "      <td>2297800</td>\n",
       "      <td>408300</td>\n",
       "    </tr>\n",
       "    <tr>\n",
       "      <th>4</th>\n",
       "      <td>1964</td>\n",
       "      <td>191141000</td>\n",
       "      <td>9360</td>\n",
       "      <td>21420</td>\n",
       "      <td>130390</td>\n",
       "      <td>203050</td>\n",
       "      <td>1213200</td>\n",
       "      <td>2514400</td>\n",
       "      <td>472800</td>\n",
       "    </tr>\n",
       "  </tbody>\n",
       "</table>\n",
       "</div>"
      ],
      "text/plain": [
       "   Year  Population  Murder  Forcible_Rape  Robbery  Aggravated_assault  \\\n",
       "0  1960   179323175    9110          17190   107840              154320   \n",
       "1  1961   182992000    8740          17220   106670              156760   \n",
       "2  1962   185771000    8530          17550   110860              164570   \n",
       "3  1963   188483000    8640          17650   116470              174210   \n",
       "4  1964   191141000    9360          21420   130390              203050   \n",
       "\n",
       "   Burglary  Larceny_Theft  Vehicle_Theft  \n",
       "0    912100        1855400         328200  \n",
       "1    949600        1913000         336000  \n",
       "2    994300        2089600         366800  \n",
       "3   1086400        2297800         408300  \n",
       "4   1213200        2514400         472800  "
      ]
     },
     "execution_count": 2,
     "metadata": {},
     "output_type": "execute_result"
    }
   ],
   "source": [
    "# Read the dataset and print the first five records\n",
    "crime = pd.read_csv(\"crime.csv\")\n",
    "crime.head(n = 5)"
   ]
  },
  {
   "cell_type": "markdown",
   "metadata": {},
   "source": [
    "### Step 3. What is the type of the columns?"
   ]
  },
  {
   "cell_type": "code",
   "execution_count": 3,
   "metadata": {},
   "outputs": [
    {
     "data": {
      "text/plain": [
       "Year                  int64\n",
       "Population            int64\n",
       "Murder                int64\n",
       "Forcible_Rape         int64\n",
       "Robbery               int64\n",
       "Aggravated_assault    int64\n",
       "Burglary              int64\n",
       "Larceny_Theft         int64\n",
       "Vehicle_Theft         int64\n",
       "dtype: object"
      ]
     },
     "execution_count": 3,
     "metadata": {},
     "output_type": "execute_result"
    }
   ],
   "source": [
    "# Show column types\n",
    "crime.dtypes"
   ]
  },
  {
   "cell_type": "markdown",
   "metadata": {},
   "source": [
    "### Step 4. Generate descriptive statistics"
   ]
  },
  {
   "cell_type": "code",
   "execution_count": 4,
   "metadata": {},
   "outputs": [
    {
     "data": {
      "text/html": [
       "<div>\n",
       "<style scoped>\n",
       "    .dataframe tbody tr th:only-of-type {\n",
       "        vertical-align: middle;\n",
       "    }\n",
       "\n",
       "    .dataframe tbody tr th {\n",
       "        vertical-align: top;\n",
       "    }\n",
       "\n",
       "    .dataframe thead th {\n",
       "        text-align: right;\n",
       "    }\n",
       "</style>\n",
       "<table border=\"1\" class=\"dataframe\">\n",
       "  <thead>\n",
       "    <tr style=\"text-align: right;\">\n",
       "      <th></th>\n",
       "      <th>Year</th>\n",
       "      <th>Population</th>\n",
       "      <th>Murder</th>\n",
       "      <th>Forcible_Rape</th>\n",
       "      <th>Robbery</th>\n",
       "      <th>Aggravated_assault</th>\n",
       "      <th>Burglary</th>\n",
       "      <th>Larceny_Theft</th>\n",
       "      <th>Vehicle_Theft</th>\n",
       "    </tr>\n",
       "  </thead>\n",
       "  <tbody>\n",
       "    <tr>\n",
       "      <th>count</th>\n",
       "      <td>55.00000</td>\n",
       "      <td>5.500000e+01</td>\n",
       "      <td>55.000000</td>\n",
       "      <td>55.000000</td>\n",
       "      <td>55.000000</td>\n",
       "      <td>5.500000e+01</td>\n",
       "      <td>5.500000e+01</td>\n",
       "      <td>5.500000e+01</td>\n",
       "      <td>5.500000e+01</td>\n",
       "    </tr>\n",
       "    <tr>\n",
       "      <th>mean</th>\n",
       "      <td>1987.00000</td>\n",
       "      <td>2.461556e+08</td>\n",
       "      <td>17317.236364</td>\n",
       "      <td>72714.800000</td>\n",
       "      <td>416449.890909</td>\n",
       "      <td>6.811818e+05</td>\n",
       "      <td>2.424017e+06</td>\n",
       "      <td>5.959947e+06</td>\n",
       "      <td>1.028614e+06</td>\n",
       "    </tr>\n",
       "    <tr>\n",
       "      <th>std</th>\n",
       "      <td>16.02082</td>\n",
       "      <td>4.166216e+07</td>\n",
       "      <td>4267.442664</td>\n",
       "      <td>28278.006893</td>\n",
       "      <td>150506.403782</td>\n",
       "      <td>2.960255e+05</td>\n",
       "      <td>7.259004e+05</td>\n",
       "      <td>1.846401e+06</td>\n",
       "      <td>3.455693e+05</td>\n",
       "    </tr>\n",
       "    <tr>\n",
       "      <th>min</th>\n",
       "      <td>1960.00000</td>\n",
       "      <td>1.793232e+08</td>\n",
       "      <td>8530.000000</td>\n",
       "      <td>17190.000000</td>\n",
       "      <td>106670.000000</td>\n",
       "      <td>1.543200e+05</td>\n",
       "      <td>9.121000e+05</td>\n",
       "      <td>1.855400e+06</td>\n",
       "      <td>3.282000e+05</td>\n",
       "    </tr>\n",
       "    <tr>\n",
       "      <th>25%</th>\n",
       "      <td>1973.50000</td>\n",
       "      <td>2.106215e+08</td>\n",
       "      <td>14819.000000</td>\n",
       "      <td>53400.000000</td>\n",
       "      <td>354911.500000</td>\n",
       "      <td>4.384300e+05</td>\n",
       "      <td>2.105336e+06</td>\n",
       "      <td>4.843350e+06</td>\n",
       "      <td>7.896260e+05</td>\n",
       "    </tr>\n",
       "    <tr>\n",
       "      <th>50%</th>\n",
       "      <td>1987.00000</td>\n",
       "      <td>2.422829e+08</td>\n",
       "      <td>17030.000000</td>\n",
       "      <td>84230.000000</td>\n",
       "      <td>423557.000000</td>\n",
       "      <td>7.412910e+05</td>\n",
       "      <td>2.329950e+06</td>\n",
       "      <td>6.591900e+06</td>\n",
       "      <td>1.032200e+06</td>\n",
       "    </tr>\n",
       "    <tr>\n",
       "      <th>75%</th>\n",
       "      <td>2000.50000</td>\n",
       "      <td>2.833697e+08</td>\n",
       "      <td>20561.500000</td>\n",
       "      <td>92930.000000</td>\n",
       "      <td>512137.000000</td>\n",
       "      <td>9.002150e+05</td>\n",
       "      <td>3.073600e+06</td>\n",
       "      <td>7.168450e+06</td>\n",
       "      <td>1.239302e+06</td>\n",
       "    </tr>\n",
       "    <tr>\n",
       "      <th>max</th>\n",
       "      <td>2014.00000</td>\n",
       "      <td>3.188571e+08</td>\n",
       "      <td>24700.000000</td>\n",
       "      <td>109060.000000</td>\n",
       "      <td>687730.000000</td>\n",
       "      <td>1.135610e+06</td>\n",
       "      <td>3.795200e+06</td>\n",
       "      <td>8.142200e+06</td>\n",
       "      <td>1.661700e+06</td>\n",
       "    </tr>\n",
       "  </tbody>\n",
       "</table>\n",
       "</div>"
      ],
      "text/plain": [
       "             Year    Population        Murder  Forcible_Rape        Robbery  \\\n",
       "count    55.00000  5.500000e+01     55.000000      55.000000      55.000000   \n",
       "mean   1987.00000  2.461556e+08  17317.236364   72714.800000  416449.890909   \n",
       "std      16.02082  4.166216e+07   4267.442664   28278.006893  150506.403782   \n",
       "min    1960.00000  1.793232e+08   8530.000000   17190.000000  106670.000000   \n",
       "25%    1973.50000  2.106215e+08  14819.000000   53400.000000  354911.500000   \n",
       "50%    1987.00000  2.422829e+08  17030.000000   84230.000000  423557.000000   \n",
       "75%    2000.50000  2.833697e+08  20561.500000   92930.000000  512137.000000   \n",
       "max    2014.00000  3.188571e+08  24700.000000  109060.000000  687730.000000   \n",
       "\n",
       "       Aggravated_assault      Burglary  Larceny_Theft  Vehicle_Theft  \n",
       "count        5.500000e+01  5.500000e+01   5.500000e+01   5.500000e+01  \n",
       "mean         6.811818e+05  2.424017e+06   5.959947e+06   1.028614e+06  \n",
       "std          2.960255e+05  7.259004e+05   1.846401e+06   3.455693e+05  \n",
       "min          1.543200e+05  9.121000e+05   1.855400e+06   3.282000e+05  \n",
       "25%          4.384300e+05  2.105336e+06   4.843350e+06   7.896260e+05  \n",
       "50%          7.412910e+05  2.329950e+06   6.591900e+06   1.032200e+06  \n",
       "75%          9.002150e+05  3.073600e+06   7.168450e+06   1.239302e+06  \n",
       "max          1.135610e+06  3.795200e+06   8.142200e+06   1.661700e+06  "
      ]
     },
     "execution_count": 4,
     "metadata": {},
     "output_type": "execute_result"
    }
   ],
   "source": [
    "# Descriptive statistics\n",
    "crime.describe()"
   ]
  },
  {
   "cell_type": "markdown",
   "metadata": {},
   "source": [
    "### Step 5. Add a new column \"Total\". "
   ]
  },
  {
   "cell_type": "markdown",
   "metadata": {},
   "source": [
    "**This column contains the total crime happened each year**"
   ]
  },
  {
   "cell_type": "code",
   "execution_count": 5,
   "metadata": {},
   "outputs": [
    {
     "data": {
      "text/html": [
       "<div>\n",
       "<style scoped>\n",
       "    .dataframe tbody tr th:only-of-type {\n",
       "        vertical-align: middle;\n",
       "    }\n",
       "\n",
       "    .dataframe tbody tr th {\n",
       "        vertical-align: top;\n",
       "    }\n",
       "\n",
       "    .dataframe thead th {\n",
       "        text-align: right;\n",
       "    }\n",
       "</style>\n",
       "<table border=\"1\" class=\"dataframe\">\n",
       "  <thead>\n",
       "    <tr style=\"text-align: right;\">\n",
       "      <th></th>\n",
       "      <th>Year</th>\n",
       "      <th>Population</th>\n",
       "      <th>Murder</th>\n",
       "      <th>Forcible_Rape</th>\n",
       "      <th>Robbery</th>\n",
       "      <th>Aggravated_assault</th>\n",
       "      <th>Burglary</th>\n",
       "      <th>Larceny_Theft</th>\n",
       "      <th>Vehicle_Theft</th>\n",
       "      <th>Total</th>\n",
       "    </tr>\n",
       "  </thead>\n",
       "  <tbody>\n",
       "    <tr>\n",
       "      <th>0</th>\n",
       "      <td>1960</td>\n",
       "      <td>179323175</td>\n",
       "      <td>9110</td>\n",
       "      <td>17190</td>\n",
       "      <td>107840</td>\n",
       "      <td>154320</td>\n",
       "      <td>912100</td>\n",
       "      <td>1855400</td>\n",
       "      <td>328200</td>\n",
       "      <td>3384160</td>\n",
       "    </tr>\n",
       "    <tr>\n",
       "      <th>1</th>\n",
       "      <td>1961</td>\n",
       "      <td>182992000</td>\n",
       "      <td>8740</td>\n",
       "      <td>17220</td>\n",
       "      <td>106670</td>\n",
       "      <td>156760</td>\n",
       "      <td>949600</td>\n",
       "      <td>1913000</td>\n",
       "      <td>336000</td>\n",
       "      <td>3487990</td>\n",
       "    </tr>\n",
       "    <tr>\n",
       "      <th>2</th>\n",
       "      <td>1962</td>\n",
       "      <td>185771000</td>\n",
       "      <td>8530</td>\n",
       "      <td>17550</td>\n",
       "      <td>110860</td>\n",
       "      <td>164570</td>\n",
       "      <td>994300</td>\n",
       "      <td>2089600</td>\n",
       "      <td>366800</td>\n",
       "      <td>3752210</td>\n",
       "    </tr>\n",
       "    <tr>\n",
       "      <th>3</th>\n",
       "      <td>1963</td>\n",
       "      <td>188483000</td>\n",
       "      <td>8640</td>\n",
       "      <td>17650</td>\n",
       "      <td>116470</td>\n",
       "      <td>174210</td>\n",
       "      <td>1086400</td>\n",
       "      <td>2297800</td>\n",
       "      <td>408300</td>\n",
       "      <td>4109470</td>\n",
       "    </tr>\n",
       "    <tr>\n",
       "      <th>4</th>\n",
       "      <td>1964</td>\n",
       "      <td>191141000</td>\n",
       "      <td>9360</td>\n",
       "      <td>21420</td>\n",
       "      <td>130390</td>\n",
       "      <td>203050</td>\n",
       "      <td>1213200</td>\n",
       "      <td>2514400</td>\n",
       "      <td>472800</td>\n",
       "      <td>4564620</td>\n",
       "    </tr>\n",
       "  </tbody>\n",
       "</table>\n",
       "</div>"
      ],
      "text/plain": [
       "   Year  Population  Murder  Forcible_Rape  Robbery  Aggravated_assault  \\\n",
       "0  1960   179323175    9110          17190   107840              154320   \n",
       "1  1961   182992000    8740          17220   106670              156760   \n",
       "2  1962   185771000    8530          17550   110860              164570   \n",
       "3  1963   188483000    8640          17650   116470              174210   \n",
       "4  1964   191141000    9360          21420   130390              203050   \n",
       "\n",
       "   Burglary  Larceny_Theft  Vehicle_Theft    Total  \n",
       "0    912100        1855400         328200  3384160  \n",
       "1    949600        1913000         336000  3487990  \n",
       "2    994300        2089600         366800  3752210  \n",
       "3   1086400        2297800         408300  4109470  \n",
       "4   1213200        2514400         472800  4564620  "
      ]
     },
     "execution_count": 5,
     "metadata": {},
     "output_type": "execute_result"
    }
   ],
   "source": [
    "# Total crime per year\n",
    "crime[\"Total\"] = crime.iloc[:,2:].sum(axis = 1)\n",
    "crime.head(n = 5)"
   ]
  },
  {
   "cell_type": "markdown",
   "metadata": {},
   "source": [
    "### Step 6. Which are those years when the total crime exceeded 14000000?"
   ]
  },
  {
   "cell_type": "code",
   "execution_count": 6,
   "metadata": {
    "scrolled": true
   },
   "outputs": [
    {
     "data": {
      "text/html": [
       "<div>\n",
       "<style scoped>\n",
       "    .dataframe tbody tr th:only-of-type {\n",
       "        vertical-align: middle;\n",
       "    }\n",
       "\n",
       "    .dataframe tbody tr th {\n",
       "        vertical-align: top;\n",
       "    }\n",
       "\n",
       "    .dataframe thead th {\n",
       "        text-align: right;\n",
       "    }\n",
       "</style>\n",
       "<table border=\"1\" class=\"dataframe\">\n",
       "  <thead>\n",
       "    <tr style=\"text-align: right;\">\n",
       "      <th></th>\n",
       "      <th>Year</th>\n",
       "      <th>Population</th>\n",
       "      <th>Murder</th>\n",
       "      <th>Forcible_Rape</th>\n",
       "      <th>Robbery</th>\n",
       "      <th>Aggravated_assault</th>\n",
       "      <th>Burglary</th>\n",
       "      <th>Larceny_Theft</th>\n",
       "      <th>Vehicle_Theft</th>\n",
       "      <th>Total</th>\n",
       "    </tr>\n",
       "  </thead>\n",
       "  <tbody>\n",
       "    <tr>\n",
       "      <th>29</th>\n",
       "      <td>1989</td>\n",
       "      <td>248239000</td>\n",
       "      <td>21500</td>\n",
       "      <td>94500</td>\n",
       "      <td>578330</td>\n",
       "      <td>951710</td>\n",
       "      <td>3168200</td>\n",
       "      <td>7872400</td>\n",
       "      <td>1564800</td>\n",
       "      <td>14251440</td>\n",
       "    </tr>\n",
       "    <tr>\n",
       "      <th>30</th>\n",
       "      <td>1990</td>\n",
       "      <td>248709873</td>\n",
       "      <td>23440</td>\n",
       "      <td>102560</td>\n",
       "      <td>639270</td>\n",
       "      <td>1054860</td>\n",
       "      <td>3073900</td>\n",
       "      <td>7945700</td>\n",
       "      <td>1635900</td>\n",
       "      <td>14475630</td>\n",
       "    </tr>\n",
       "    <tr>\n",
       "      <th>31</th>\n",
       "      <td>1991</td>\n",
       "      <td>252177000</td>\n",
       "      <td>24700</td>\n",
       "      <td>106590</td>\n",
       "      <td>687730</td>\n",
       "      <td>1092740</td>\n",
       "      <td>3157200</td>\n",
       "      <td>8142200</td>\n",
       "      <td>1661700</td>\n",
       "      <td>14872860</td>\n",
       "    </tr>\n",
       "    <tr>\n",
       "      <th>32</th>\n",
       "      <td>1992</td>\n",
       "      <td>255082000</td>\n",
       "      <td>23760</td>\n",
       "      <td>109060</td>\n",
       "      <td>672480</td>\n",
       "      <td>1126970</td>\n",
       "      <td>2979900</td>\n",
       "      <td>7915200</td>\n",
       "      <td>1610800</td>\n",
       "      <td>14438170</td>\n",
       "    </tr>\n",
       "    <tr>\n",
       "      <th>33</th>\n",
       "      <td>1993</td>\n",
       "      <td>257908000</td>\n",
       "      <td>24530</td>\n",
       "      <td>106010</td>\n",
       "      <td>659870</td>\n",
       "      <td>1135610</td>\n",
       "      <td>2834800</td>\n",
       "      <td>7820900</td>\n",
       "      <td>1563100</td>\n",
       "      <td>14144820</td>\n",
       "    </tr>\n",
       "  </tbody>\n",
       "</table>\n",
       "</div>"
      ],
      "text/plain": [
       "    Year  Population  Murder  Forcible_Rape  Robbery  Aggravated_assault  \\\n",
       "29  1989   248239000   21500          94500   578330              951710   \n",
       "30  1990   248709873   23440         102560   639270             1054860   \n",
       "31  1991   252177000   24700         106590   687730             1092740   \n",
       "32  1992   255082000   23760         109060   672480             1126970   \n",
       "33  1993   257908000   24530         106010   659870             1135610   \n",
       "\n",
       "    Burglary  Larceny_Theft  Vehicle_Theft     Total  \n",
       "29   3168200        7872400        1564800  14251440  \n",
       "30   3073900        7945700        1635900  14475630  \n",
       "31   3157200        8142200        1661700  14872860  \n",
       "32   2979900        7915200        1610800  14438170  \n",
       "33   2834800        7820900        1563100  14144820  "
      ]
     },
     "execution_count": 6,
     "metadata": {},
     "output_type": "execute_result"
    }
   ],
   "source": [
    "crime[crime[\"Total\"] > 14000000]"
   ]
  },
  {
   "cell_type": "markdown",
   "metadata": {},
   "source": [
    "The years when total crime exceeded 14,000,000 are: 1989, 1990, 1991, 1992, and 1993"
   ]
  },
  {
   "cell_type": "markdown",
   "metadata": {},
   "source": [
    "### Step 7. Find the year when crime was at its minimum."
   ]
  },
  {
   "cell_type": "code",
   "execution_count": 7,
   "metadata": {
    "scrolled": true
   },
   "outputs": [
    {
     "data": {
      "text/html": [
       "<div>\n",
       "<style scoped>\n",
       "    .dataframe tbody tr th:only-of-type {\n",
       "        vertical-align: middle;\n",
       "    }\n",
       "\n",
       "    .dataframe tbody tr th {\n",
       "        vertical-align: top;\n",
       "    }\n",
       "\n",
       "    .dataframe thead th {\n",
       "        text-align: right;\n",
       "    }\n",
       "</style>\n",
       "<table border=\"1\" class=\"dataframe\">\n",
       "  <thead>\n",
       "    <tr style=\"text-align: right;\">\n",
       "      <th></th>\n",
       "      <th>Year</th>\n",
       "      <th>Population</th>\n",
       "      <th>Murder</th>\n",
       "      <th>Forcible_Rape</th>\n",
       "      <th>Robbery</th>\n",
       "      <th>Aggravated_assault</th>\n",
       "      <th>Burglary</th>\n",
       "      <th>Larceny_Theft</th>\n",
       "      <th>Vehicle_Theft</th>\n",
       "      <th>Total</th>\n",
       "    </tr>\n",
       "  </thead>\n",
       "  <tbody>\n",
       "    <tr>\n",
       "      <th>0</th>\n",
       "      <td>1960</td>\n",
       "      <td>179323175</td>\n",
       "      <td>9110</td>\n",
       "      <td>17190</td>\n",
       "      <td>107840</td>\n",
       "      <td>154320</td>\n",
       "      <td>912100</td>\n",
       "      <td>1855400</td>\n",
       "      <td>328200</td>\n",
       "      <td>3384160</td>\n",
       "    </tr>\n",
       "  </tbody>\n",
       "</table>\n",
       "</div>"
      ],
      "text/plain": [
       "   Year  Population  Murder  Forcible_Rape  Robbery  Aggravated_assault  \\\n",
       "0  1960   179323175    9110          17190   107840              154320   \n",
       "\n",
       "   Burglary  Larceny_Theft  Vehicle_Theft    Total  \n",
       "0    912100        1855400         328200  3384160  "
      ]
     },
     "execution_count": 7,
     "metadata": {},
     "output_type": "execute_result"
    }
   ],
   "source": [
    "crime[crime[\"Total\"] == crime[\"Total\"].min()]"
   ]
  },
  {
   "cell_type": "markdown",
   "metadata": {},
   "source": [
    "The year when crime is at its minimum is 1960"
   ]
  },
  {
   "cell_type": "markdown",
   "metadata": {},
   "source": [
    "### Step 8. When was the most dangerous and the safest decade to live in this country?"
   ]
  },
  {
   "cell_type": "markdown",
   "metadata": {},
   "source": [
    "**Hint:** https://www.thetopsites.net/article/54003707.shtml"
   ]
  },
  {
   "cell_type": "code",
   "execution_count": 8,
   "metadata": {},
   "outputs": [
    {
     "data": {
      "text/html": [
       "<div>\n",
       "<style scoped>\n",
       "    .dataframe tbody tr th:only-of-type {\n",
       "        vertical-align: middle;\n",
       "    }\n",
       "\n",
       "    .dataframe tbody tr th {\n",
       "        vertical-align: top;\n",
       "    }\n",
       "\n",
       "    .dataframe thead th {\n",
       "        text-align: right;\n",
       "    }\n",
       "</style>\n",
       "<table border=\"1\" class=\"dataframe\">\n",
       "  <thead>\n",
       "    <tr style=\"text-align: right;\">\n",
       "      <th></th>\n",
       "      <th>Decade</th>\n",
       "      <th>Population</th>\n",
       "      <th>Murder</th>\n",
       "      <th>Forcible_Rape</th>\n",
       "      <th>Robbery</th>\n",
       "      <th>Aggravated_assault</th>\n",
       "      <th>Burglary</th>\n",
       "      <th>Larceny_Theft</th>\n",
       "      <th>Vehicle_Theft</th>\n",
       "      <th>Total</th>\n",
       "    </tr>\n",
       "  </thead>\n",
       "  <tbody>\n",
       "    <tr>\n",
       "      <th>0</th>\n",
       "      <td>1960</td>\n",
       "      <td>1915053175</td>\n",
       "      <td>106180</td>\n",
       "      <td>236720</td>\n",
       "      <td>1633510</td>\n",
       "      <td>2158520</td>\n",
       "      <td>13321100</td>\n",
       "      <td>26547700</td>\n",
       "      <td>5292100</td>\n",
       "      <td>49295830</td>\n",
       "    </tr>\n",
       "    <tr>\n",
       "      <th>1</th>\n",
       "      <td>1970</td>\n",
       "      <td>2121193298</td>\n",
       "      <td>192230</td>\n",
       "      <td>554570</td>\n",
       "      <td>4159020</td>\n",
       "      <td>4702120</td>\n",
       "      <td>28486000</td>\n",
       "      <td>53157800</td>\n",
       "      <td>9739900</td>\n",
       "      <td>100991640</td>\n",
       "    </tr>\n",
       "    <tr>\n",
       "      <th>2</th>\n",
       "      <td>1980</td>\n",
       "      <td>2371370069</td>\n",
       "      <td>206439</td>\n",
       "      <td>865639</td>\n",
       "      <td>5383109</td>\n",
       "      <td>7619130</td>\n",
       "      <td>33073494</td>\n",
       "      <td>72040253</td>\n",
       "      <td>11935411</td>\n",
       "      <td>131123475</td>\n",
       "    </tr>\n",
       "    <tr>\n",
       "      <th>3</th>\n",
       "      <td>1990</td>\n",
       "      <td>2612825258</td>\n",
       "      <td>211664</td>\n",
       "      <td>998827</td>\n",
       "      <td>5748930</td>\n",
       "      <td>10568963</td>\n",
       "      <td>26750015</td>\n",
       "      <td>77679366</td>\n",
       "      <td>14624418</td>\n",
       "      <td>136582183</td>\n",
       "    </tr>\n",
       "    <tr>\n",
       "      <th>4</th>\n",
       "      <td>2000</td>\n",
       "      <td>2947969117</td>\n",
       "      <td>163068</td>\n",
       "      <td>922499</td>\n",
       "      <td>4230366</td>\n",
       "      <td>8652124</td>\n",
       "      <td>21565176</td>\n",
       "      <td>67970291</td>\n",
       "      <td>11412834</td>\n",
       "      <td>114916358</td>\n",
       "    </tr>\n",
       "    <tr>\n",
       "      <th>5</th>\n",
       "      <td>2010</td>\n",
       "      <td>1570146307</td>\n",
       "      <td>72867</td>\n",
       "      <td>421059</td>\n",
       "      <td>1749809</td>\n",
       "      <td>3764142</td>\n",
       "      <td>10125170</td>\n",
       "      <td>30401698</td>\n",
       "      <td>3569080</td>\n",
       "      <td>50103825</td>\n",
       "    </tr>\n",
       "  </tbody>\n",
       "</table>\n",
       "</div>"
      ],
      "text/plain": [
       "   Decade  Population  Murder  Forcible_Rape  Robbery  Aggravated_assault  \\\n",
       "0    1960  1915053175  106180         236720  1633510             2158520   \n",
       "1    1970  2121193298  192230         554570  4159020             4702120   \n",
       "2    1980  2371370069  206439         865639  5383109             7619130   \n",
       "3    1990  2612825258  211664         998827  5748930            10568963   \n",
       "4    2000  2947969117  163068         922499  4230366             8652124   \n",
       "5    2010  1570146307   72867         421059  1749809             3764142   \n",
       "\n",
       "   Burglary  Larceny_Theft  Vehicle_Theft      Total  \n",
       "0  13321100       26547700        5292100   49295830  \n",
       "1  28486000       53157800        9739900  100991640  \n",
       "2  33073494       72040253       11935411  131123475  \n",
       "3  26750015       77679366       14624418  136582183  \n",
       "4  21565176       67970291       11412834  114916358  \n",
       "5  10125170       30401698        3569080   50103825  "
      ]
     },
     "execution_count": 8,
     "metadata": {},
     "output_type": "execute_result"
    }
   ],
   "source": [
    "# Get the Total crimes by decade\n",
    "\n",
    "# Reset the index to year\n",
    "crime_new_index = crime.set_index(\"Year\")\n",
    "crime_new_index.head()\n",
    "crime_decade=crime_new_index.groupby((crime_new_index.index//10)*10).sum()\n",
    "# Reset the index back to before\n",
    "crime_decade = crime_decade.reset_index()\n",
    "# Rename the Year column to Decade to be more intuitive\n",
    "crime_decade = crime_decade.rename(columns = {\"Year\" : \"Decade\"})\n",
    "crime_decade"
   ]
  },
  {
   "cell_type": "code",
   "execution_count": 9,
   "metadata": {
    "scrolled": true
   },
   "outputs": [
    {
     "data": {
      "text/html": [
       "<div>\n",
       "<style scoped>\n",
       "    .dataframe tbody tr th:only-of-type {\n",
       "        vertical-align: middle;\n",
       "    }\n",
       "\n",
       "    .dataframe tbody tr th {\n",
       "        vertical-align: top;\n",
       "    }\n",
       "\n",
       "    .dataframe thead th {\n",
       "        text-align: right;\n",
       "    }\n",
       "</style>\n",
       "<table border=\"1\" class=\"dataframe\">\n",
       "  <thead>\n",
       "    <tr style=\"text-align: right;\">\n",
       "      <th></th>\n",
       "      <th>Decade</th>\n",
       "      <th>Population</th>\n",
       "      <th>Murder</th>\n",
       "      <th>Forcible_Rape</th>\n",
       "      <th>Robbery</th>\n",
       "      <th>Aggravated_assault</th>\n",
       "      <th>Burglary</th>\n",
       "      <th>Larceny_Theft</th>\n",
       "      <th>Vehicle_Theft</th>\n",
       "      <th>Total</th>\n",
       "    </tr>\n",
       "  </thead>\n",
       "  <tbody>\n",
       "    <tr>\n",
       "      <th>3</th>\n",
       "      <td>1990</td>\n",
       "      <td>2612825258</td>\n",
       "      <td>211664</td>\n",
       "      <td>998827</td>\n",
       "      <td>5748930</td>\n",
       "      <td>10568963</td>\n",
       "      <td>26750015</td>\n",
       "      <td>77679366</td>\n",
       "      <td>14624418</td>\n",
       "      <td>136582183</td>\n",
       "    </tr>\n",
       "  </tbody>\n",
       "</table>\n",
       "</div>"
      ],
      "text/plain": [
       "   Decade  Population  Murder  Forcible_Rape  Robbery  Aggravated_assault  \\\n",
       "3    1990  2612825258  211664         998827  5748930            10568963   \n",
       "\n",
       "   Burglary  Larceny_Theft  Vehicle_Theft      Total  \n",
       "3  26750015       77679366       14624418  136582183  "
      ]
     },
     "execution_count": 9,
     "metadata": {},
     "output_type": "execute_result"
    }
   ],
   "source": [
    "# Get the most dangerous decade. i.e Decade with the maximum Total crime\n",
    "crime_decade[crime_decade[\"Total\"] == crime_decade[\"Total\"].max()]"
   ]
  },
  {
   "cell_type": "markdown",
   "metadata": {},
   "source": [
    "The most dangerous decade to live in this country is the 1990's"
   ]
  },
  {
   "cell_type": "code",
   "execution_count": 10,
   "metadata": {
    "scrolled": false
   },
   "outputs": [
    {
     "data": {
      "text/html": [
       "<div>\n",
       "<style scoped>\n",
       "    .dataframe tbody tr th:only-of-type {\n",
       "        vertical-align: middle;\n",
       "    }\n",
       "\n",
       "    .dataframe tbody tr th {\n",
       "        vertical-align: top;\n",
       "    }\n",
       "\n",
       "    .dataframe thead th {\n",
       "        text-align: right;\n",
       "    }\n",
       "</style>\n",
       "<table border=\"1\" class=\"dataframe\">\n",
       "  <thead>\n",
       "    <tr style=\"text-align: right;\">\n",
       "      <th></th>\n",
       "      <th>Decade</th>\n",
       "      <th>Population</th>\n",
       "      <th>Murder</th>\n",
       "      <th>Forcible_Rape</th>\n",
       "      <th>Robbery</th>\n",
       "      <th>Aggravated_assault</th>\n",
       "      <th>Burglary</th>\n",
       "      <th>Larceny_Theft</th>\n",
       "      <th>Vehicle_Theft</th>\n",
       "      <th>Total</th>\n",
       "    </tr>\n",
       "  </thead>\n",
       "  <tbody>\n",
       "    <tr>\n",
       "      <th>0</th>\n",
       "      <td>1960</td>\n",
       "      <td>1915053175</td>\n",
       "      <td>106180</td>\n",
       "      <td>236720</td>\n",
       "      <td>1633510</td>\n",
       "      <td>2158520</td>\n",
       "      <td>13321100</td>\n",
       "      <td>26547700</td>\n",
       "      <td>5292100</td>\n",
       "      <td>49295830</td>\n",
       "    </tr>\n",
       "  </tbody>\n",
       "</table>\n",
       "</div>"
      ],
      "text/plain": [
       "   Decade  Population  Murder  Forcible_Rape  Robbery  Aggravated_assault  \\\n",
       "0    1960  1915053175  106180         236720  1633510             2158520   \n",
       "\n",
       "   Burglary  Larceny_Theft  Vehicle_Theft     Total  \n",
       "0  13321100       26547700        5292100  49295830  "
      ]
     },
     "execution_count": 10,
     "metadata": {},
     "output_type": "execute_result"
    }
   ],
   "source": [
    "# Get the safest decade. i.e Decade with the minimum Total crime\n",
    "crime_decade[crime_decade[\"Total\"] == crime_decade[\"Total\"].min()]"
   ]
  },
  {
   "cell_type": "markdown",
   "metadata": {},
   "source": [
    "The safest decade to live in this country is the 1960's"
   ]
  },
  {
   "cell_type": "markdown",
   "metadata": {},
   "source": [
    "### Step 9. Visualize the Crime Rate"
   ]
  },
  {
   "cell_type": "markdown",
   "metadata": {},
   "source": [
    "**Based on the visualization identify which crime is the most frequent and less frequent. Violent Crime OR Property Crime** "
   ]
  },
  {
   "cell_type": "code",
   "execution_count": 11,
   "metadata": {},
   "outputs": [],
   "source": [
    "x = crime_decade[\"Decade\"]\n",
    "y = [\"Murder\", \"Forcible_Rape\", \"Robbery\", \"Aggravated_assault\", \"Burglary\", \"Larceny_Theft\", \"Vehicle_Theft\"]"
   ]
  },
  {
   "cell_type": "code",
   "execution_count": 12,
   "metadata": {
    "scrolled": true
   },
   "outputs": [
    {
     "data": {
      "text/plain": [
       "<matplotlib.legend.Legend at 0x19e86eaad00>"
      ]
     },
     "execution_count": 12,
     "metadata": {},
     "output_type": "execute_result"
    },
    {
     "data": {
      "image/png": "[encoded data removed]",
      "text/plain": [
       "<Figure size 432x288 with 1 Axes>"
      ]
     },
     "metadata": {
      "needs_background": "light"
     },
     "output_type": "display_data"
    }
   ],
   "source": [
    "plt.plot(x, crime_decade[\"Murder\"], color = \"red\", label = \"Murder\")\n",
    "plt.plot(x, crime_decade[\"Forcible_Rape\"], color = \"blue\", label = \"Forcible_Rape\")\n",
    "plt.plot(x, crime_decade[\"Robbery\"], color = \"yellow\", label = \"Robbery\")\n",
    "plt.plot(x, crime_decade[\"Aggravated_assault\"], color = \"green\", label = \"Aggravated Assault\")\n",
    "plt.plot(x, crime_decade[\"Burglary\"], color = \"brown\", label = \"Burglary\")\n",
    "plt.plot(x, crime_decade[\"Larceny_Theft\"], color = \"purple\", label = \"Larceny Theft\")\n",
    "plt.plot(x, crime_decade[\"Vehicle_Theft\"], color = \"orange\", label = \"Vehicle Theft\")\n",
    "plt.title(\"Distribution of Crimes from 1960 to 2010\")\n",
    "plt.legend()"
   ]
  },
  {
   "cell_type": "markdown",
   "metadata": {},
   "source": [
    "From the distribution, the type of crime that is most common is Larceny Theft while the crime that is less frequent is Murder"
   ]
  },
  {
   "cell_type": "markdown",
   "metadata": {},
   "source": [
    "### Step 10. Find two other compelling findings from the given dataset. "
   ]
  },
  {
   "cell_type": "code",
   "execution_count": 13,
   "metadata": {
    "scrolled": false
   },
   "outputs": [
    {
     "data": {
      "text/plain": [
       "Text(0.5, 1.0, 'Distribution of Total crimes from 1960 to 2010')"
      ]
     },
     "execution_count": 13,
     "metadata": {},
     "output_type": "execute_result"
    },
    {
     "data": {
      "image/png": "[encoded data removed]",
      "text/plain": [
       "<Figure size 432x288 with 1 Axes>"
      ]
     },
     "metadata": {
      "needs_background": "light"
     },
     "output_type": "display_data"
    }
   ],
   "source": [
    "sns.barplot(data = crime_decade, x = \"Decade\", y = \"Total\")\n",
    "\n",
    "plt.title(\"Distribution of Total crimes from 1960 to 2010\")"
   ]
  },
  {
   "cell_type": "code",
   "execution_count": 14,
   "metadata": {},
   "outputs": [
    {
     "data": {
      "text/plain": [
       "Text(0.5, 1.0, 'Distribution of Total crimes from 1960 to 2010')"
      ]
     },
     "execution_count": 14,
     "metadata": {},
     "output_type": "execute_result"
    },
    {
     "data": {
      "image/png": "[encoded data removed]",
      "text/plain": [
       "<Figure size 432x288 with 1 Axes>"
      ]
     },
     "metadata": {
      "needs_background": "light"
     },
     "output_type": "display_data"
    }
   ],
   "source": [
    "sns.lineplot(data = crime_decade, x = \"Decade\", y = \"Total\", color = \"red\")\n",
    "plt.title(\"Distribution of Total crimes from 1960 to 2010\")"
   ]
  },
  {
   "cell_type": "markdown",
   "metadata": {},
   "source": [
    "One major findings from the given dataset is that crime increased from the 1960's and peaked in the 90's, then decreased from the 1990's to 2010. Another major findings is that there are more Burglary crimes than Forcible Rape crimes"
   ]
  }
 ],
 "metadata": {
  "kernelspec": {
   "display_name": "Python 3",
   "language": "python",
   "name": "python3"
  },
  "language_info": {
   "codemirror_mode": {
    "name": "ipython",
    "version": 3
   },
   "file_extension": ".py",
   "mimetype": "text/x-python",
   "name": "python",
   "nbconvert_exporter": "python",
   "pygments_lexer": "ipython3",
   "version": "3.8.8"
  }
 },
 "nbformat": 4,
 "nbformat_minor": 4
}
